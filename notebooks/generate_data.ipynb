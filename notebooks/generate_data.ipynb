{
 "cells": [
  {
   "cell_type": "code",
   "execution_count": null,
   "metadata": {},
   "outputs": [],
   "source": [
    "import numpy as np\n",
    "import scipy.io\n",
    "import matplotlib.pyplot as plt\n",
    "import yaml\n",
    "import sys\n",
    "sys.path.insert(0, '../')\n",
    "sys.path.insert(0, '../dataset')\n",
    "import supershape as ss\n",
    "import mesher\n",
    "import matplotlib as mpl\n",
    "mpl.rcParams['figure.dpi'] = 300"
   ]
  },
  {
   "cell_type": "code",
   "execution_count": null,
   "metadata": {},
   "outputs": [],
   "source": [
    "with open(\"datagen.yaml\", \"r\") as file:\n",
    "  config_data = yaml.safe_load(file)"
   ]
  },
  {
   "attachments": {},
   "cell_type": "markdown",
   "metadata": {},
   "source": [
    "# Shape parameters"
   ]
  },
  {
   "cell_type": "code",
   "execution_count": null,
   "metadata": {},
   "outputs": [],
   "source": [
    "shape_yaml = config_data['SUPERSHAPE']\n",
    "shape_extents = ss.SuperShapeExtents(\n",
    "    a=ss.Extents(shape_yaml['min_a'], shape_yaml['max_a']),\n",
    "    b=ss.Extents(shape_yaml['min_b'], shape_yaml['max_b']),\n",
    "    m=ss.Extents(shape_yaml['min_m'], shape_yaml['max_m']),\n",
    "    n1=ss.Extents(shape_yaml['min_n1'], shape_yaml['max_n1']),\n",
    "    n2=ss.Extents(shape_yaml['min_n2'], shape_yaml['max_n2']),\n",
    "    n3=ss.Extents(shape_yaml['min_n3'], shape_yaml['max_n3']),\n",
    "    center_x=ss.Extents(shape_yaml['min_cx'], shape_yaml['max_cy']),\n",
    "    center_y=ss.Extents(shape_yaml['min_cy'], shape_yaml['max_cy']),\n",
    ")"
   ]
  },
  {
   "attachments": {},
   "cell_type": "markdown",
   "metadata": {},
   "source": [
    "# Generate shapes"
   ]
  },
  {
   "cell_type": "code",
   "execution_count": null,
   "metadata": {},
   "outputs": [],
   "source": [
    "random_shape_param = ss.generate_random_super_shapes(\n",
    "    config_data['DATASET']['num_samples'], shape_extents)"
   ]
  },
  {
   "attachments": {},
   "cell_type": "markdown",
   "metadata": {},
   "source": [
    "# Mesh to project polygons"
   ]
  },
  {
   "cell_type": "code",
   "execution_count": null,
   "metadata": {},
   "outputs": [],
   "source": [
    "mesh_yaml = config_data['MESH']\n",
    "polygons, pruned_shape_parameters = ss.super_shape_to_shapely_polygon(random_shape_param)\n",
    "shape_density = ss.project_shapely_polygons_to_density(polygons,\n",
    "                                                 mesh_yaml['nelx'],\n",
    "                                                 mesh_yaml['nely'], True)"
   ]
  },
  {
   "attachments": {},
   "cell_type": "markdown",
   "metadata": {},
   "source": [
    "# Polygon area and perim"
   ]
  },
  {
   "cell_type": "code",
   "execution_count": null,
   "metadata": {},
   "outputs": [],
   "source": [
    "\n",
    "shape_perim = ss.compute_shapely_polygon_perimeter(polygons)\n",
    "shape_area = ss.compute_shapely_polygon_area(polygons)\n",
    "normalized_shape_area = shape_area/(random_shape_param.domain_length_x*random_shape_param.domain_length_y)    #Normalize to fit within unit cell of 1*1\n",
    "normalized_shape_perim = shape_perim/(random_shape_param.domain_length_x + random_shape_param.domain_length_y)"
   ]
  },
  {
   "attachments": {},
   "cell_type": "markdown",
   "metadata": {},
   "source": [
    "# Plot some of the polygons"
   ]
  },
  {
   "cell_type": "code",
   "execution_count": null,
   "metadata": {},
   "outputs": [],
   "source": [
    "n_imgs_x, n_imgs_y = 4, 4\n",
    "rand_img_idxs = np.random.randint(0, shape_density.shape[0], (n_imgs_x*n_imgs_y,))\n",
    "rand_mstr_imgs = shape_density[rand_img_idxs,:]\n",
    "rand_shape_area = normalized_shape_area[rand_img_idxs]\n",
    "rand_shape_perim = normalized_shape_perim[rand_img_idxs]\n",
    "\n",
    "_, axs = plt.subplots(n_imgs_x, n_imgs_y)\n",
    "axs = axs.flatten()\n",
    "for i, ax in enumerate(axs):\n",
    "    im = ax.imshow(rand_mstr_imgs[i,:].T,\n",
    "              cmap='coolwarm')\n",
    "    ax.set_title(f'{rand_shape_perim[i]:.2F}')\n",
    "    ax.axis('off')\n",
    "cbar = plt.colorbar(im, ax=axs)\n",
    "cbar.set_label('Colorbar Label')\n",
    "plt.show()"
   ]
  },
  {
   "cell_type": "markdown",
   "metadata": {},
   "source": [
    "# Save Dataset for Homogenization"
   ]
  },
  {
   "cell_type": "code",
   "execution_count": null,
   "metadata": {},
   "outputs": [],
   "source": [
    "shape_params = pruned_shape_parameters.to_stacked_array()"
   ]
  },
  {
   "cell_type": "code",
   "execution_count": null,
   "metadata": {},
   "outputs": [],
   "source": [
    "dataset_num  = config_data['DATASET']['dataset_num']\n",
    "scipy.io.savemat(f'../dataset/mstr_shape_parameters_{dataset_num}.mat', \n",
    "                 {'mstr_shape_parameters': shape_params})\n",
    "scipy.io.savemat(f'../dataset/mstr_images_{dataset_num}.mat', \n",
    "                 {'mstr_images': shape_density})\n",
    "scipy.io.savemat(f'../dataset/mstr_area_{dataset_num}.mat', \n",
    "                 {'mstr_area': normalized_shape_area})\n",
    "scipy.io.savemat(f'../dataset/mstr_perim_{dataset_num}.mat', \n",
    "                 {'mstr_perim': normalized_shape_perim})"
   ]
  }
 ],
 "metadata": {
  "kernelspec": {
   "display_name": "Python 3.9.15 ('pyML')",
   "language": "python",
   "name": "python3"
  },
  "language_info": {
   "codemirror_mode": {
    "name": "ipython",
    "version": 3
   },
   "file_extension": ".py",
   "mimetype": "text/x-python",
   "name": "python",
   "nbconvert_exporter": "python",
   "pygments_lexer": "ipython3",
   "version": "3.10.9"
  },
  "vscode": {
   "interpreter": {
    "hash": "4602012142f164ad64901f41ac734ff17cd932e5bfd3346820f6d7f371034b4e"
   }
  }
 },
 "nbformat": 4,
 "nbformat_minor": 2
}
