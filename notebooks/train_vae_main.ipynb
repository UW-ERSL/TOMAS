{
 "cells": [
  {
   "cell_type": "code",
   "execution_count": null,
   "metadata": {},
   "outputs": [],
   "source": [
    "import numpy as np\n",
    "import torch\n",
    "import scipy.io\n",
    "import yaml\n",
    "from enum import Enum, auto\n",
    "\n",
    "import sys\n",
    "sys.path.insert(0, '../')\n",
    "sys.path.insert(0, '../dataset')\n",
    "sys.path.insert(0, '../vae')\n",
    "\n",
    "import network\n",
    "import data_preprocess\n",
    "import train_vae\n",
    "import matplotlib.pyplot as plt\n",
    "import geopandas as gpd\n",
    "from matplotlib import rc\n",
    "from ipywidgets import interact, RadioButtons\n",
    "import os\n",
    "\n",
    "\n",
    "import dataset.supershape as ss\n",
    "import dataset.mesher as mesher\n",
    "# Set the global font to be DejaVu Sans, size 10 (or any other sans-serif font of your choice!)\n",
    "rc('font',**{'family':'sans-serif','sans-serif':['DejaVu Sans'],'size':10})\n",
    "\n",
    "# Set the font used for MathJax - more on this later\n",
    "rc('mathtext',**{'default':'regular'})"
   ]
  },
  {
   "cell_type": "markdown",
   "metadata": {},
   "source": [
    "# Read Configuration File"
   ]
  },
  {
   "cell_type": "code",
   "execution_count": null,
   "metadata": {},
   "outputs": [],
   "source": [
    "with open(\"vae_config.yaml\", \"r\") as file:\n",
    "  vae_config = yaml.safe_load(file)\n",
    "\n",
    "with open(\"datagen.yaml\", \"r\") as file:\n",
    "  data_config = yaml.safe_load(file)"
   ]
  },
  {
   "cell_type": "markdown",
   "metadata": {},
   "source": [
    "# Load SuperShape Data"
   ]
  },
  {
   "cell_type": "code",
   "execution_count": null,
   "metadata": {},
   "outputs": [],
   "source": [
    "dataset_num  = data_config['DATASET']['dataset_num']\n",
    "mstr_shape_params = scipy.io.loadmat(f'../dataset/mstr_shape_parameters_{dataset_num}.mat'\n",
    "                                     )['mstr_shape_parameters']\n",
    "mstr_homog_data = scipy.io.loadmat(f'../dataset/homogen_data_{dataset_num}.mat')\n",
    "mstr_area = scipy.io.loadmat(f'../dataset/mstr_area_{dataset_num}.mat')['mstr_area']\n",
    "mstr_perim = scipy.io.loadmat(f'../dataset/mstr_perim_{dataset_num}.mat')['mstr_perim']\n",
    "c00, c10, c01, c11 = (mstr_homog_data['c00'], mstr_homog_data['c10'],\n",
    "                       mstr_homog_data['c01'], mstr_homog_data['c11'])"
   ]
  },
  {
   "cell_type": "markdown",
   "metadata": {},
   "source": [
    "# Plot Data Distribution"
   ]
  },
  {
   "cell_type": "code",
   "execution_count": null,
   "metadata": {},
   "outputs": [],
   "source": [
    "plt.hist(c00, bins=5, edgecolor='black')\n",
    "\n",
    "# Customize plot\n",
    "plt.title('Histogram')\n",
    "plt.xlabel('C_00_values')\n",
    "plt.ylabel('Frequency')\n",
    "\n",
    "# Display the plot\n",
    "plt.show()"
   ]
  },
  {
   "cell_type": "markdown",
   "metadata": {},
   "source": [
    "# Normalize data"
   ]
  },
  {
   "cell_type": "code",
   "execution_count": null,
   "metadata": {},
   "outputs": [],
   "source": [
    "mstr_data = torch.tensor(np.hstack((mstr_shape_params, c00, c11,\n",
    "                                    mstr_perim.reshape((-1, 1)),\n",
    "                                    mstr_area\n",
    "                                    ))).double()\n",
    "# 8 LINEAR = a, b, m, n1, n2, n3, cx, cy\n",
    "# 2 LOG =  c00, c11\n",
    "# 2 LINEAR =  perim, area\n",
    "normalization_types = [data_preprocess.NomalizationType.LINEAR] * 8 + [data_preprocess.NomalizationType.LOG] * 2 + [data_preprocess.NomalizationType.LINEAR] * 2\n",
    "normalized_train_data, max_feature, min_feature = data_preprocess.stack_train_data(mstr_data, normalization_types)\n"
   ]
  },
  {
   "cell_type": "code",
   "execution_count": null,
   "metadata": {},
   "outputs": [],
   "source": [
    "num_samples, num_features = normalized_train_data.shape"
   ]
  },
  {
   "cell_type": "markdown",
   "metadata": {},
   "source": [
    "# Train VAE"
   ]
  },
  {
   "cell_type": "code",
   "execution_count": null,
   "metadata": {},
   "outputs": [],
   "source": [
    "vae_yaml = vae_config['NETWORK']\n",
    "vae_params = network.VAE_Params(input_dim=num_features,\n",
    "                                encoder_hidden_dim=vae_yaml['encoder_hidden_dim'],\n",
    "                                latent_dim=vae_yaml['latent_dim'],\n",
    "                                decoder_hidden_dim=vae_yaml['decoder_hidden_dim'])\n",
    "print(vae_yaml['latent_dim'])"
   ]
  },
  {
   "cell_type": "code",
   "execution_count": null,
   "metadata": {},
   "outputs": [],
   "source": [
    "vae_net = network.VariationalAutoencoder(vae_params=vae_params)"
   ]
  },
  {
   "cell_type": "code",
   "execution_count": null,
   "metadata": {},
   "outputs": [],
   "source": [
    "folder_path = \"../vae\"\n",
    "file_name = \"vae_net.pt\"\n",
    "file_path = os.path.join(folder_path, file_name)\n",
    "if not os.path.isfile(file_path):\n",
    "  opt_yaml = vae_config['OPTIMIZATION']\n",
    "  convg_history = train_vae.train_autoencoder(vae=vae_net,\n",
    "                                              train_data=normalized_train_data,\n",
    "                                              num_epochs=opt_yaml['num_epochs'],\n",
    "                                              kl_factor=opt_yaml['kl_factor'],\n",
    "                                              lr = opt_yaml['lr'],\n",
    "                                              save_file = file_path)"
   ]
  },
  {
   "cell_type": "markdown",
   "metadata": {},
   "source": [
    "# Load VAE"
   ]
  },
  {
   "cell_type": "code",
   "execution_count": null,
   "metadata": {},
   "outputs": [],
   "source": [
    "if os.path.isfile(file_path):\n",
    "    vae_net.encoder.is_training = False\n",
    "    vae_net.load_state_dict(torch.load(file_path))\n",
    "    vae_net.eval()\n",
    "    print(\"Loading VAE\")"
   ]
  },
  {
   "cell_type": "code",
   "execution_count": null,
   "metadata": {},
   "outputs": [],
   "source": [
    "vae_output = vae_net(normalized_train_data)"
   ]
  },
  {
   "cell_type": "code",
   "execution_count": null,
   "metadata": {},
   "outputs": [],
   "source": [
    "vae_latent_encoding = vae_net.encoder(normalized_train_data).detach().numpy()\n",
    "plt.scatter(vae_latent_encoding[:,0], vae_latent_encoding[:,1])"
   ]
  },
  {
   "cell_type": "markdown",
   "metadata": {},
   "source": [
    "# Inetractive Latent Space Plot"
   ]
  },
  {
   "cell_type": "code",
   "execution_count": null,
   "metadata": {},
   "outputs": [],
   "source": [
    "%matplotlib widget\n",
    "\n",
    "def interactive_z_space_plot():\n",
    "\n",
    "  def on_pick(event):\n",
    "    pt = [event.xdata, event.ydata]\n",
    "    if pt[0] is not None and pt[1] is not None:\n",
    "      latent_point = torch.tensor(pt).view((-1, 2)).double()\n",
    "      decoded = vae_net.decoder(latent_point)\n",
    "      renormalized_output = data_preprocess.stack_vae_output(decoded, max_feature, min_feature, normalization_types).reshape(-1)\n",
    "      shape_params_array = renormalized_output.detach().numpy()\n",
    "      recon_shape = ss.SuperShapes.from_array(shape_params_array,\n",
    "                                            num_shapes=1)\n",
    "\n",
    "      x, y = ss.get_euclidean_coords_of_points_on_surf_super_shape(recon_shape)\n",
    "      ax[1].clear()\n",
    "      ax[1].patch.set_facecolor('#DAE8FC') # blue\n",
    "      ax[1].fill(x[0, :], y[0, :], facecolor='#F8CECC', edgecolor='black')\n",
    "      ax[1].set_xlim([recon_shape.bounding_box.x_min, recon_shape.bounding_box.x_max])\n",
    "      ax[1].set_ylim([recon_shape.bounding_box.y_min, recon_shape.bounding_box.y_max])\n",
    "    return event.xdata, event.ydata\n",
    "  fig, ax = plt.subplots(1, 2)\n",
    "  ax[0].scatter(vae_latent_encoding[:,0], vae_latent_encoding[:,1])\n",
    "  cid = fig.canvas.mpl_connect('button_press_event', on_pick)\n",
    "\n",
    "interactive_z_space_plot()\n",
    "# fig.canvas.mpl_disconnect(cid)"
   ]
  }
 ],
 "metadata": {
  "kernelspec": {
   "display_name": "Python 3.9.15 ('pyML')",
   "language": "python",
   "name": "python3"
  },
  "language_info": {
   "codemirror_mode": {
    "name": "ipython",
    "version": 3
   },
   "file_extension": ".py",
   "mimetype": "text/x-python",
   "name": "python",
   "nbconvert_exporter": "python",
   "pygments_lexer": "ipython3",
   "version": "3.1.0"
  },
  "vscode": {
   "interpreter": {
    "hash": "4602012142f164ad64901f41ac734ff17cd932e5bfd3346820f6d7f371034b4e"
   }
  }
 },
 "nbformat": 4,
 "nbformat_minor": 2
}
